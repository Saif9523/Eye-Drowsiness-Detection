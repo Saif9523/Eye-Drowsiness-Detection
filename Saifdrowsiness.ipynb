{
 "cells": [
  {
   "cell_type": "code",
   "execution_count": 2,
   "metadata": {},
   "outputs": [
    {
     "name": "stdout",
     "output_type": "stream",
     "text": [
      "Collecting pygame\n",
      "  Downloading https://files.pythonhosted.org/packages/9a/99/74ff08a397530af1e48640a5394af2e3df4fd4f720e221a3e45637485337/pygame-2.0.1-cp37-cp37m-win_amd64.whl (5.2MB)\n",
      "Installing collected packages: pygame\n",
      "Successfully installed pygame-2.0.1\n",
      "Note: you may need to restart the kernel to use updated packages.\n"
     ]
    }
   ],
   "source": [
    "pip install pygame\n"
   ]
  },
  {
   "cell_type": "code",
   "execution_count": 3,
   "metadata": {},
   "outputs": [
    {
     "name": "stdout",
     "output_type": "stream",
     "text": [
      "Requirement already satisfied: pygame in e:\\anaconda_niru\\lib\\site-packages (2.0.1)\n",
      "Note: you may need to restart the kernel to use updated packages.\n"
     ]
    }
   ],
   "source": [
    "pip install pygame"
   ]
  },
  {
   "cell_type": "code",
   "execution_count": 4,
   "metadata": {},
   "outputs": [
    {
     "name": "stdout",
     "output_type": "stream",
     "text": [
      "Collecting imutils\n",
      "  Downloading https://files.pythonhosted.org/packages/3f/d3/ecb4d108f6c1041d24842a345ee0123cd7f366ba75cf122601e856d42ba2/imutils-0.5.4.tar.gz\n",
      "Building wheels for collected packages: imutils\n",
      "  Building wheel for imutils (setup.py): started\n",
      "  Building wheel for imutils (setup.py): finished with status 'done'\n",
      "  Stored in directory: C:\\Users\\Niru\\AppData\\Local\\pip\\Cache\\wheels\\db\\23\\45\\fc7424906880ffa9577a2a428b961f2b79e0e21d9f71e7e6bc\n",
      "Successfully built imutils\n",
      "Installing collected packages: imutils\n",
      "Successfully installed imutils-0.5.4\n",
      "Note: you may need to restart the kernel to use updated packages.\n"
     ]
    }
   ],
   "source": [
    "pip install --upgrade imutils"
   ]
  },
  {
   "cell_type": "code",
   "execution_count": 5,
   "metadata": {},
   "outputs": [
    {
     "name": "stdout",
     "output_type": "stream",
     "text": [
      "Collecting playsound\n",
      "  Downloading https://files.pythonhosted.org/packages/f5/16/10d897b0a83fb4b05b03a63d7a2667ab75f857f67f7062fd447dd3f49bf7/playsound-1.2.2-py2.py3-none-any.whl\n",
      "Installing collected packages: playsound\n",
      "Successfully installed playsound-1.2.2\n",
      "Note: you may need to restart the kernel to use updated packages.\n"
     ]
    }
   ],
   "source": [
    "pip install playsound"
   ]
  },
  {
   "cell_type": "code",
   "execution_count": 6,
   "metadata": {},
   "outputs": [
    {
     "name": "stdout",
     "output_type": "stream",
     "text": [
      "Collecting opencv-python\n",
      "  Downloading https://files.pythonhosted.org/packages/70/a8/e52a82936be6d5696fb06c78450707c26dc13df91bb6bf49583bb9abbaa0/opencv_python-4.5.1.48-cp37-cp37m-win_amd64.whl (34.9MB)\n",
      "Requirement already satisfied: numpy>=1.14.5 in e:\\anaconda_niru\\lib\\site-packages (from opencv-python) (1.16.4)\n",
      "Installing collected packages: opencv-python\n",
      "Successfully installed opencv-python-4.5.1.48\n",
      "Note: you may need to restart the kernel to use updated packages.\n"
     ]
    }
   ],
   "source": [
    "pip install opencv-python"
   ]
  },
  {
   "cell_type": "code",
   "execution_count": 1,
   "metadata": {},
   "outputs": [
    {
     "name": "stdout",
     "output_type": "stream",
     "text": [
      "pygame 2.5.1 (SDL 2.28.2, Python 3.10.12)\n",
      "Hello from the pygame community. https://www.pygame.org/contribute.html\n"
     ]
    },
    {
     "ename": "ModuleNotFoundError",
     "evalue": "No module named 'tkinter'",
     "output_type": "error",
     "traceback": [
      "\u001b[0;31m---------------------------------------------------------------------------\u001b[0m",
      "\u001b[0;31mModuleNotFoundError\u001b[0m                       Traceback (most recent call last)",
      "Cell \u001b[0;32mIn[1], line 5\u001b[0m\n\u001b[1;32m      3\u001b[0m \u001b[38;5;28;01mimport\u001b[39;00m \u001b[38;5;21;01mtime\u001b[39;00m\n\u001b[1;32m      4\u001b[0m \u001b[38;5;28;01mimport\u001b[39;00m \u001b[38;5;21;01mcv2\u001b[39;00m\n\u001b[0;32m----> 5\u001b[0m \u001b[38;5;28;01mfrom\u001b[39;00m \u001b[38;5;21;01mtkinter\u001b[39;00m \u001b[38;5;28;01mimport\u001b[39;00m \u001b[38;5;241m*\u001b[39m\n\u001b[1;32m      6\u001b[0m \u001b[38;5;28;01mimport\u001b[39;00m \u001b[38;5;21;01mtkinter\u001b[39;00m\u001b[38;5;21;01m.\u001b[39;00m\u001b[38;5;21;01mmessagebox\u001b[39;00m\n\u001b[1;32m      7\u001b[0m root\u001b[38;5;241m=\u001b[39mTk()\n",
      "\u001b[0;31mModuleNotFoundError\u001b[0m: No module named 'tkinter'"
     ]
    }
   ],
   "source": [
    "import numpy\n",
    "from pygame import mixer\n",
    "import time\n",
    "import cv2\n",
    "from tkinter import *\n",
    "import tkinter.messagebox\n",
    "root=Tk()\n",
    "root.geometry('500x570')\n",
    "frame = Frame(root, relief=RIDGE, borderwidth=2)\n",
    "frame.pack(fill=BOTH,expand=1)\n",
    "root.title('Driver Drowsiness')\n",
    "frame.config(background='light green')\n",
    "label = Label(frame, text=\"Driver Drosiness\",bg='light green',font=('Times 35 bold'))\n",
    "label.pack(side=TOP)\n",
    "\n",
    "\n",
    "def hel():\n",
    "   help(cv2)\n",
    "\n",
    "def teamdetails():\n",
    "   tkinter.messagebox.showinfo(\"Team Details\",\"\\n1.Saiful Haque\\n2. Member2 \\n3. Member3 \\n\")\n",
    "\n",
    "\n",
    "def about():\n",
    "   tkinter.messagebox.showinfo(\"About\",'Driver EyeDrowsiness Detection System is specialised for detecting Drowsiness as well as used for record ')\n",
    "                                    \n",
    "   \n",
    "\n",
    "menu = Menu(root)\n",
    "root.config(menu=menu)\n",
    "\n",
    "subm1 = Menu(menu)\n",
    "menu.add_cascade(label=\"Tools\",menu=subm1)\n",
    "subm1.add_command(label=\"Open CV Docs\",command=hel)\n",
    "\n",
    "subm2 = Menu(menu)\n",
    "menu.add_cascade(label=\"About\",menu=subm2)\n",
    "subm2.add_command(label=\"Driver Drowsiness\",command=about)\n",
    "subm2.add_command(label=\"Team Details\",command=teamdetails)\n",
    "\n",
    "\n",
    "\n",
    "def exitdestroy():\n",
    "    root.destroy()\n",
    "\n",
    "  \n",
    "\n",
    "\n",
    "def webrec():\n",
    "   capture =cv2.VideoCapture(0)\n",
    "   fourcc=cv2.VideoWriter_fourcc(*'XVID') \n",
    "   op=cv2.VideoWriter('Sample1.avi',fourcc,11.0,(640,480))\n",
    "   while True:\n",
    "      ret,frame=capture.read()\n",
    "      gray = cv2.cvtColor(frame, cv2.COLOR_BGR2GRAY)\n",
    "      cv2.imshow('frame',frame)\n",
    "      op.write(frame)\n",
    "      if cv2.waitKey(1) & 0xFF ==ord('q'):\n",
    "         break\n",
    "   op.release()\n",
    "   capture.release()\n",
    "   cv2.destroyAllWindows()   \n",
    "\n",
    "\n",
    "def webdetRec():\n",
    "   capture =cv2.VideoCapture(0)\n",
    "   face_cascade = cv2.CascadeClassifier('lbpcascade_frontalface.xml')\n",
    "   eye_glass = cv2.CascadeClassifier('haarcascade_eye_tree_eyeglasses.xml')\n",
    "   fourcc=cv2.VideoWriter_fourcc(*'XVID') \n",
    "   op=cv2.VideoWriter('Sample2.avi',fourcc,9.0,(640,480))\n",
    "\n",
    "   while True:\n",
    "       ret, frame = capture.read()\n",
    "       gray = cv2.cvtColor(frame, cv2.COLOR_BGR2GRAY)\n",
    "       faces = face_cascade.detectMultiScale(gray)\n",
    "    \n",
    "\n",
    "       for (x,y,w,h) in faces:\n",
    "           font = cv2.FONT_HERSHEY_COMPLEX\n",
    "           cv2.putText(frame,'Face',(x+w,y+h),font,1,(250,250,250),2,cv2.LINE_AA)\n",
    "           cv2.rectangle(frame,(x,y),(x+w,y+h),(255,0,0),2)\n",
    "           roi_gray = gray[y:y+h, x:x+w]\n",
    "           roi_color = frame[y:y+h, x:x+w]\n",
    "        \n",
    "          \n",
    "\n",
    "           eye_g = eye_glass.detectMultiScale(roi_gray)\n",
    "           for (ex,ey,ew,eh) in eye_g:\n",
    "              cv2.rectangle(roi_color,(ex,ey),(ex+ew,ey+eh),(0,255,0),2)\n",
    "       op.write(frame)\n",
    "       cv2.imshow('frame',frame)\n",
    "       if cv2.waitKey(1) & 0xff == ord('q'):\n",
    "          break\n",
    "   op.release()      \n",
    "   capture.release()\n",
    "   cv2.destroyAllWindows()\n",
    "\n",
    "   \n",
    "def alert():\n",
    "   mixer.init()\n",
    "   alert=mixer.Sound('beep-07.wav')\n",
    "   alert.play()\n",
    "   time.sleep(0.1)\n",
    "   alert.play()   \n",
    "   \n",
    "def blink():\n",
    "   capture =cv2.VideoCapture(0)\n",
    "   face_cascade = cv2.CascadeClassifier('lbpcascade_frontalface.xml')\n",
    "   eye_cascade = cv2.CascadeClassifier('haarcascade_eye.xml')\n",
    "   blink_cascade = cv2.CascadeClassifier('CustomBlinkCascade.xml')\n",
    "\n",
    "   while True:\n",
    "      ret, frame = capture.read()\n",
    "      gray = cv2.cvtColor(frame,cv2.COLOR_BGR2GRAY)\n",
    "      faces = face_cascade.detectMultiScale(gray)\n",
    "\n",
    "      for (x,y,w,h) in faces:\n",
    "         font = cv2.FONT_HERSHEY_COMPLEX\n",
    "         cv2.putText(frame,'Face',(x+w,y+h),font,1,(250,250,250),2,cv2.LINE_AA)\n",
    "         cv2.rectangle(frame,(x,y),(x+w,y+h),(255,0,0),2)\n",
    "         roi_gray = gray[y:y+h, x:x+w]\n",
    "         roi_color = frame[y:y+h, x:x+w]\n",
    "\n",
    "         eyes = eye_cascade.detectMultiScale(roi_gray)\n",
    "         for(ex,ey,ew,eh) in eyes:\n",
    "            cv2.rectangle(roi_color,(ex,ey),(ex+ew,ey+eh),(0,255,0),2)\n",
    "\n",
    "         blink = blink_cascade.detectMultiScale(roi_gray)\n",
    "         for(eyx,eyy,eyw,eyh) in blink:\n",
    "            cv2.rectangle(roi_color,(eyx,eyy),(eyx+eyw,eyy+eyh),(255,255,0),2)\n",
    "            alert()\n",
    "      cv2.imshow('frame',frame)\n",
    "      if cv2.waitKey(1) & 0xFF ==ord('q'):\n",
    "          break\n",
    "         \n",
    "  \n",
    "   capture.release()\n",
    "   cv2.destroyAllWindows()\n",
    "\n",
    "   \n",
    "\n",
    "\n",
    "but1=Button(frame,padx=5,pady=5,width=39,bg='white',fg='black',relief=GROOVE,command=webrec,text='Record Action',font=('helvetica 15 bold'))\n",
    "but1.place(x=5,y=176)\n",
    "\n",
    "but2=Button(frame,padx=5,pady=5,width=39,bg='white',fg='black',relief=GROOVE,command=webdetRec,text='Detect Eye and record',font=('helvetica 15 bold'))\n",
    "but2.place(x=5,y=250)\n",
    "\n",
    "but3=Button(frame,padx=5,pady=5,width=39,bg='white',fg='black',relief=GROOVE,command=blink,text='Detect Drowsiness &  With Sound',font=('helvetica 15 bold'))\n",
    "but3.place(x=5,y=370)\n",
    "\n",
    "but4=Button(frame,padx=5,pady=5,width=5,bg='white',fg='black',relief=GROOVE,text='EXIT',command=exitdestroy,font=('helvetica 15 bold'))\n",
    "but4.place(x=210,y=478)\n",
    "\n",
    "\n",
    "root.mainloop()\n",
    "\n"
   ]
  },
  {
   "cell_type": "code",
   "execution_count": 2,
   "metadata": {},
   "outputs": [
    {
     "name": "stdout",
     "output_type": "stream",
     "text": [
      "Defaulting to user installation because normal site-packages is not writeable\n",
      "\u001b[31mERROR: Could not find a version that satisfies the requirement tkinter (from versions: none)\u001b[0m\u001b[31m\n",
      "\u001b[0m\u001b[31mERROR: No matching distribution found for tkinter\u001b[0m\u001b[31m\n",
      "\u001b[0mNote: you may need to restart the kernel to use updated packages.\n"
     ]
    }
   ],
   "source": [
    "pip install tkinter"
   ]
  },
  {
   "cell_type": "code",
   "execution_count": null,
   "metadata": {},
   "outputs": [],
   "source": []
  }
 ],
 "metadata": {
  "kernelspec": {
   "display_name": "Python 3 (ipykernel)",
   "language": "python",
   "name": "python3"
  },
  "language_info": {
   "codemirror_mode": {
    "name": "ipython",
    "version": 3
   },
   "file_extension": ".py",
   "mimetype": "text/x-python",
   "name": "python",
   "nbconvert_exporter": "python",
   "pygments_lexer": "ipython3",
   "version": "3.10.12"
  }
 },
 "nbformat": 4,
 "nbformat_minor": 4
}
